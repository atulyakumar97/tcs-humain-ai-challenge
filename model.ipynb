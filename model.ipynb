{
 "cells": [
  {
   "cell_type": "code",
   "execution_count": 55,
   "metadata": {},
   "outputs": [],
   "source": [
    "import pandas as pd\n",
    "\n",
    "from tensorflow.python.keras.applications import ResNet50\n",
    "from tensorflow.python.keras.models import Sequential\n",
    "from tensorflow.python.keras.layers import Dense, Flatten, GlobalAveragePooling2D\n",
    "import tensorflow as tf"
   ]
  },
  {
   "cell_type": "code",
   "execution_count": 76,
   "metadata": {},
   "outputs": [
    {
     "data": {
      "text/html": [
       "<div>\n",
       "<style scoped>\n",
       "    .dataframe tbody tr th:only-of-type {\n",
       "        vertical-align: middle;\n",
       "    }\n",
       "\n",
       "    .dataframe tbody tr th {\n",
       "        vertical-align: top;\n",
       "    }\n",
       "\n",
       "    .dataframe thead th {\n",
       "        text-align: right;\n",
       "    }\n",
       "</style>\n",
       "<table border=\"1\" class=\"dataframe\">\n",
       "  <thead>\n",
       "    <tr style=\"text-align: right;\">\n",
       "      <th></th>\n",
       "      <th>imagefile</th>\n",
       "      <th>emotion</th>\n",
       "      <th>age</th>\n",
       "      <th>ethnicity</th>\n",
       "      <th>gender</th>\n",
       "    </tr>\n",
       "  </thead>\n",
       "  <tbody>\n",
       "    <tr>\n",
       "      <th>0</th>\n",
       "      <td>1.jpeg</td>\n",
       "      <td>Emotion_Happy</td>\n",
       "      <td>Age_below20</td>\n",
       "      <td>E_White</td>\n",
       "      <td>G_Male</td>\n",
       "    </tr>\n",
       "    <tr>\n",
       "      <th>1</th>\n",
       "      <td>2.jpeg</td>\n",
       "      <td>Emotion_Happy</td>\n",
       "      <td>Age_20_30</td>\n",
       "      <td>E_White</td>\n",
       "      <td>G_Female</td>\n",
       "    </tr>\n",
       "    <tr>\n",
       "      <th>2</th>\n",
       "      <td>3.jpeg</td>\n",
       "      <td>Emotion_Happy</td>\n",
       "      <td>Age_20_30</td>\n",
       "      <td>E_Hispanic</td>\n",
       "      <td>G_Female</td>\n",
       "    </tr>\n",
       "    <tr>\n",
       "      <th>3</th>\n",
       "      <td>4.jpeg</td>\n",
       "      <td>Emotion_Happy</td>\n",
       "      <td>Age_20_30</td>\n",
       "      <td>E_White</td>\n",
       "      <td>G_Female</td>\n",
       "    </tr>\n",
       "    <tr>\n",
       "      <th>4</th>\n",
       "      <td>5.jpeg</td>\n",
       "      <td>Emotion_Happy</td>\n",
       "      <td>Age_20_30</td>\n",
       "      <td>E_White</td>\n",
       "      <td>G_Female</td>\n",
       "    </tr>\n",
       "  </tbody>\n",
       "</table>\n",
       "</div>"
      ],
      "text/plain": [
       "  imagefile        emotion          age   ethnicity    gender\n",
       "0    1.jpeg  Emotion_Happy  Age_below20     E_White    G_Male\n",
       "1    2.jpeg  Emotion_Happy    Age_20_30     E_White  G_Female\n",
       "2    3.jpeg  Emotion_Happy    Age_20_30  E_Hispanic  G_Female\n",
       "3    4.jpeg  Emotion_Happy    Age_20_30     E_White  G_Female\n",
       "4    5.jpeg  Emotion_Happy    Age_20_30     E_White  G_Female"
      ]
     },
     "execution_count": 76,
     "metadata": {},
     "output_type": "execute_result"
    }
   ],
   "source": [
    "labels = pd.read_csv('dataset/labels.csv')\n",
    "labels.head()"
   ]
  },
  {
   "cell_type": "markdown",
   "metadata": {},
   "source": [
    "### Missing and Wrong Labels\n",
    "\n",
    "Image 52,80,81,129 not faces while quick viewing images\n"
   ]
  },
  {
   "cell_type": "code",
   "execution_count": 77,
   "metadata": {
    "scrolled": false
   },
   "outputs": [],
   "source": [
    "labels.drop([51,79,80,128],axis=0,inplace=True)"
   ]
  },
  {
   "cell_type": "markdown",
   "metadata": {},
   "source": [
    "Manually labeling images as every image is crucial"
   ]
  },
  {
   "cell_type": "code",
   "execution_count": 78,
   "metadata": {},
   "outputs": [
    {
     "data": {
      "text/plain": [
       "imagefile    0\n",
       "emotion      0\n",
       "age          0\n",
       "ethnicity    0\n",
       "gender       0\n",
       "dtype: int64"
      ]
     },
     "execution_count": 78,
     "metadata": {},
     "output_type": "execute_result"
    }
   ],
   "source": [
    "# Missing data before manually labelling them\n",
    "# imagefile     0\n",
    "# emotion       1\n",
    "# age          14\n",
    "# ethnicity    14\n",
    "# gender       14\n",
    "# dtype: int64\n",
    "\n",
    "labels.isnull().sum()"
   ]
  },
  {
   "cell_type": "code",
   "execution_count": 79,
   "metadata": {},
   "outputs": [],
   "source": [
    "gender = labels['gender']\n",
    "emotion = labels['emotion']\n",
    "age = labels['age']\n",
    "ethnicity = labels['ethnicity']"
   ]
  },
  {
   "cell_type": "code",
   "execution_count": 80,
   "metadata": {},
   "outputs": [
    {
     "name": "stdout",
     "output_type": "stream",
     "text": [
      "['G_Male' 'G_Female']\n",
      "['Age_below20' 'Age_20_30' 'Age_above_50' 'Age_30_40' 'Age_40_50']\n",
      "['Emotion_Happy' 'Emotion_Neutral' 'Emotion_Sad' 'Emotion_Angry']\n",
      "['E_White' 'E_Hispanic' 'E_Asian' 'E_Black' 'E_Arab' 'E_Indian']\n"
     ]
    }
   ],
   "source": [
    "print(gender.unique())\n",
    "print(age.unique())\n",
    "print(emotion.unique())\n",
    "print(ethnicity.unique())"
   ]
  },
  {
   "cell_type": "code",
   "execution_count": 81,
   "metadata": {},
   "outputs": [],
   "source": [
    "tf.logging.set_verbosity(tf.logging.ERROR)\n",
    "\n",
    "num_classes = 2 # gender - male / female\n",
    "resnet_weights_path = 'resnet50.h5'\n",
    "\n",
    "my_new_model = Sequential()\n",
    "my_new_model.add(ResNet50(include_top=False, pooling='avg', weights=resnet_weights_path))\n",
    "my_new_model.add(Dense(num_classes, activation='softmax'))\n",
    "\n",
    "# Say not to train first layer (ResNet) model. It is already trained\n",
    "my_new_model.layers[0].trainable = False"
   ]
  },
  {
   "cell_type": "code",
   "execution_count": 82,
   "metadata": {},
   "outputs": [],
   "source": [
    "my_new_model.compile(optimizer='sgd', loss='categorical_crossentropy', metrics=['accuracy'])"
   ]
  },
  {
   "cell_type": "code",
   "execution_count": null,
   "metadata": {},
   "outputs": [],
   "source": []
  }
 ],
 "metadata": {
  "kernelspec": {
   "display_name": "Python 3",
   "language": "python",
   "name": "python3"
  },
  "language_info": {
   "codemirror_mode": {
    "name": "ipython",
    "version": 3
   },
   "file_extension": ".py",
   "mimetype": "text/x-python",
   "name": "python",
   "nbconvert_exporter": "python",
   "pygments_lexer": "ipython3",
   "version": "3.7.1"
  }
 },
 "nbformat": 4,
 "nbformat_minor": 2
}
